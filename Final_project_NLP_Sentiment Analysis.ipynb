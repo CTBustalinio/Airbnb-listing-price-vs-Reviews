{
 "cells": [
  {
   "cell_type": "code",
   "execution_count": 5,
   "metadata": {
    "collapsed": true
   },
   "outputs": [],
   "source": [
    "import pandas as pd\n",
    "from sklearn.model_selection import train_test_split\n",
    "from functools import lru_cache as memoize\n",
    "from sklearn.feature_extraction.text import CountVectorizer\n",
    "from sklearn.naive_bayes import MultinomialNB\n",
    "from sklearn.metrics import precision_score,recall_score,f1_score\n",
    "from sklearn.metrics import confusion_matrix\n",
    "from sklearn.linear_model import LogisticRegression\n"
   ]
  },
  {
   "cell_type": "code",
   "execution_count": 6,
   "metadata": {
    "collapsed": true
   },
   "outputs": [],
   "source": [
    "data = pd.read_csv('/Users/camillebustalinio/Desktop/Camille/term 2 project/airbnb data/final_data.csv')"
   ]
  },
  {
   "cell_type": "code",
   "execution_count": 7,
   "metadata": {
    "collapsed": false
   },
   "outputs": [
    {
     "data": {
      "text/plain": [
       "(0    Host was excellent and was contactable / respo...\n",
       " 1    The place was clean and spacious and the guy t...\n",
       " 2    This place wasn't as pleasant as we hoped. Had...\n",
       " 4    Nice room, cool neighbourhood. Note that this ...\n",
       " 5    The listing was accurate and the location was ...\n",
       " Name: comments, dtype: object, 0    neutral\n",
       " 1        exp\n",
       " 2        exp\n",
       " 4        exp\n",
       " 5        exp\n",
       " Name: price_tag, dtype: object)"
      ]
     },
     "execution_count": 7,
     "metadata": {},
     "output_type": "execute_result"
    }
   ],
   "source": [
    "#set X,y\n",
    "comments_SA = data[(data.language=='en')].comments\n",
    "tags_SA = data[(data.language=='en')].price_tag\n",
    "#tags_SA_list = [\"pos\" if tag == 'exp' else 'neg' for tag in tags_SA]\n",
    "comments_SA.head(), tags_SA.head()"
   ]
  },
  {
   "cell_type": "code",
   "execution_count": 8,
   "metadata": {
    "collapsed": false
   },
   "outputs": [],
   "source": [
    "@memoize(maxsize=128)\n",
    "def negate_sequence(text):\n",
    "    from nltk.tokenize import word_tokenize\n",
    "    negation = False\n",
    "    delims = \"?.,!:;\"\n",
    "    result = []\n",
    "    words = word_tokenize(text)\n",
    "    for word in words:\n",
    "        stripped = word.strip(delims).lower()\n",
    "        negated = \"not_\" + stripped if negation else stripped\n",
    "        result.append(negated)\n",
    "\n",
    "        if word in (\"not\", \"n't\", \"no\"):\n",
    "            negation = not negation\n",
    "        \n",
    "        if any(c in word for c in delims):\n",
    "            negation = False\n",
    "\n",
    "    return result"
   ]
  },
  {
   "cell_type": "code",
   "execution_count": 9,
   "metadata": {
    "collapsed": false
   },
   "outputs": [],
   "source": [
    "train_data, test_data, train_target, test_target = train_test_split(comments_SA,tags_SA)"
   ]
  },
  {
   "cell_type": "code",
   "execution_count": 10,
   "metadata": {
    "collapsed": false
   },
   "outputs": [
    {
     "data": {
      "text/plain": [
       "(121485, 40496)"
      ]
     },
     "execution_count": 10,
     "metadata": {},
     "output_type": "execute_result"
    }
   ],
   "source": [
    "len(train_data), len(test_data)"
   ]
  },
  {
   "cell_type": "code",
   "execution_count": 11,
   "metadata": {
    "collapsed": false
   },
   "outputs": [],
   "source": [
    "vectorizer_count = CountVectorizer(tokenizer=negate_sequence,\n",
    "                                binary=True)\n",
    "vectorized_count_train_data = vectorizer_count.fit_transform(train_data)"
   ]
  },
  {
   "cell_type": "code",
   "execution_count": 12,
   "metadata": {
    "collapsed": false
   },
   "outputs": [
    {
     "data": {
      "text/plain": [
       "MultinomialNB(alpha=1.0, class_prior=None, fit_prior=True)"
      ]
     },
     "execution_count": 12,
     "metadata": {},
     "output_type": "execute_result"
    }
   ],
   "source": [
    "clf = MultinomialNB()\n",
    "# Call fit method\n",
    "clf.fit(vectorized_count_train_data, train_target)"
   ]
  },
  {
   "cell_type": "code",
   "execution_count": 13,
   "metadata": {
    "collapsed": false
   },
   "outputs": [
    {
     "data": {
      "text/plain": [
       "['neutral', 'neutral', 'neutral', 'neutral', 'neutral']"
      ]
     },
     "execution_count": 13,
     "metadata": {},
     "output_type": "execute_result"
    }
   ],
   "source": [
    "predict_test = list(clf.predict(vectorizer_count.transform(test_data)))\n",
    "predict_test[:5]"
   ]
  },
  {
   "cell_type": "code",
   "execution_count": 14,
   "metadata": {
    "collapsed": false
   },
   "outputs": [
    {
     "data": {
      "text/plain": [
       "(['neutral', 'neutral', 'neutral', 'neutral', 'neutral'], 113683    neutral\n",
       " 153425    neutral\n",
       " 109508    neutral\n",
       " 56243     neutral\n",
       " 146647      cheap\n",
       " Name: price_tag, dtype: object)"
      ]
     },
     "execution_count": 14,
     "metadata": {},
     "output_type": "execute_result"
    }
   ],
   "source": [
    "predict_test[:5], test_target[:5]"
   ]
  },
  {
   "cell_type": "code",
   "execution_count": 15,
   "metadata": {
    "collapsed": false
   },
   "outputs": [
    {
     "data": {
      "text/plain": [
       "0.74217206637692612"
      ]
     },
     "execution_count": 15,
     "metadata": {},
     "output_type": "execute_result"
    }
   ],
   "source": [
    "vectorized_count_test_data = vectorizer_count.transform(test_data)\n",
    "clf.score(vectorized_count_test_data, test_target)"
   ]
  },
  {
   "cell_type": "code",
   "execution_count": null,
   "metadata": {
    "collapsed": false
   },
   "outputs": [],
   "source": [
    "sum(test_target==predict_test)"
   ]
  },
  {
   "cell_type": "code",
   "execution_count": 16,
   "metadata": {
    "collapsed": false
   },
   "outputs": [
    {
     "name": "stdout",
     "output_type": "stream",
     "text": [
      "Accuracy: 0.742172066377\n",
      "Precision: 0.724481689708\n",
      "Recall: 0.470609534458\n",
      "F1: 0.49499177932\n"
     ]
    }
   ],
   "source": [
    "print(\"Accuracy:\", sum(test_target==predict_test)/len(predict_test))\n",
    "print(\"Precision:\", precision_score(test_target, predict_test, average=\"macro\") )\n",
    "print(\"Recall:\", recall_score(test_target, predict_test, average=\"macro\") )\n",
    "print(\"F1:\", f1_score(test_target, predict_test, average=\"macro\") )\n"
   ]
  },
  {
   "cell_type": "code",
   "execution_count": 17,
   "metadata": {
    "collapsed": false
   },
   "outputs": [
    {
     "name": "stdout",
     "output_type": "stream",
     "text": [
      "Accuracy: 0.742172066377\n",
      "Precision: 0.732809412067\n",
      "Recall: 0.742172066377\n",
      "F1: 0.707269869566\n"
     ]
    }
   ],
   "source": [
    "#weighted metrics, since groups are not balanced\n",
    "print(\"Accuracy:\", sum(test_target==predict_test)/len(predict_test))\n",
    "print(\"Precision:\", precision_score(test_target, predict_test, average=\"weighted\") )\n",
    "print(\"Recall:\", recall_score(test_target, predict_test, average=\"weighted\") )\n",
    "print(\"F1:\", f1_score(test_target, predict_test, average=\"weighted\") )\n"
   ]
  },
  {
   "cell_type": "code",
   "execution_count": 18,
   "metadata": {
    "collapsed": false
   },
   "outputs": [
    {
     "name": "stdout",
     "output_type": "stream",
     "text": [
      "Rows: Actual, Columns: Predicted\n",
      "cheap neutral exp\n"
     ]
    },
    {
     "data": {
      "text/plain": [
       "array([[ 4216,  6356,    11],\n",
       "       [ 1907, 25644,    55],\n",
       "       [  160,  1952,   195]])"
      ]
     },
     "execution_count": 18,
     "metadata": {},
     "output_type": "execute_result"
    }
   ],
   "source": [
    "print(\"Rows: Actual, Columns: Predicted\")\n",
    "print('cheap', 'neutral', 'exp')\n",
    "confusion_matrix(test_target, predict_test, labels = ['cheap', 'neutral', 'exp'])"
   ]
  },
  {
   "cell_type": "code",
   "execution_count": 20,
   "metadata": {
    "collapsed": false
   },
   "outputs": [
    {
     "name": "stdout",
     "output_type": "stream",
     "text": [
      "Populating the interactive namespace from numpy and matplotlib\n"
     ]
    },
    {
     "name": "stderr",
     "output_type": "stream",
     "text": [
      "WARNING: pylab import has clobbered these variables: ['clf']\n",
      "`%matplotlib` prevents importing * from pylab and numpy\n"
     ]
    }
   ],
   "source": [
    "%pylab inline"
   ]
  },
  {
   "cell_type": "code",
   "execution_count": 21,
   "metadata": {
    "collapsed": false
   },
   "outputs": [
    {
     "name": "stdout",
     "output_type": "stream",
     "text": [
      "alpha of max r2 0.1\n",
      "max r2 0.780919455077\n"
     ]
    },
    {
     "data": {
      "image/png": "[encoded data removed]",
      "text/plain": [
       "<matplotlib.figure.Figure at 0x11b6aebe0>"
      ]
     },
     "metadata": {},
     "output_type": "display_data"
    }
   ],
   "source": [
    "alphas=[0.1,0.2,0.3,0.4,0.5,0.6,0.7,0.8,0.9]\n",
    "r2=[]\n",
    "for alpha in alphas:\n",
    "    clf = MultinomialNB()\n",
    "    # Call fit method\n",
    "    clf.fit(vectorized_count_train_data, train_target)\n",
    "    r2.append(clf.score(vectorized_count_train_data, train_target))\n",
    "\n",
    "r2 = np.array(r2)\n",
    "print(\"alpha of max r2\",alphas[np.argmax(r2)])\n",
    "print(\"max r2\",np.max(r2))\n",
    "plt.plot(alphas, r2);"
   ]
  },
  {
   "cell_type": "code",
   "execution_count": 24,
   "metadata": {
    "collapsed": true
   },
   "outputs": [],
   "source": []
  },
  {
   "cell_type": "code",
   "execution_count": 26,
   "metadata": {
    "collapsed": false
   },
   "outputs": [
    {
     "name": "stderr",
     "output_type": "stream",
     "text": [
      "/Applications/anaconda/lib/python3.5/site-packages/sklearn/linear_model/sag.py:286: ConvergenceWarning: The max_iter was reached which means the coef_ did not converge\n",
      "  \"the coef_ did not converge\", ConvergenceWarning)\n"
     ]
    },
    {
     "data": {
      "text/plain": [
       "0.77027360726985383"
      ]
     },
     "execution_count": 26,
     "metadata": {},
     "output_type": "execute_result"
    }
   ],
   "source": [
    "logistic_regression = LogisticRegression(C=1.0, solver = 'sag',max_iter=100, multi_class='multinomial', n_jobs=-1)\n",
    "logistic_regression.fit(vectorized_count_train_data, train_target)\n",
    "logistic_regression.score(vectorized_count_test_data,test_target)"
   ]
  },
  {
   "cell_type": "code",
   "execution_count": 29,
   "metadata": {
    "collapsed": false
   },
   "outputs": [
    {
     "data": {
      "text/plain": [
       "0.76894014223627027"
      ]
     },
     "execution_count": 29,
     "metadata": {},
     "output_type": "execute_result"
    }
   ],
   "source": [
    "logistic_regression = LogisticRegression(C=1.0, solver = 'newton-cg',max_iter=100, multi_class='multinomial', n_jobs=-1)\n",
    "logistic_regression.fit(vectorized_count_train_data, train_target)\n",
    "logistic_regression.score(vectorized_count_test_data,test_target)"
   ]
  },
  {
   "cell_type": "code",
   "execution_count": 40,
   "metadata": {
    "collapsed": false
   },
   "outputs": [
    {
     "data": {
      "text/plain": [
       "0.76451995258790995"
      ]
     },
     "execution_count": 40,
     "metadata": {},
     "output_type": "execute_result"
    }
   ],
   "source": [
    "logistic_regression = LogisticRegression(C=1.0, solver = 'lbfgs',max_iter=100, multi_class='multinomial', n_jobs=-1)\n",
    "logistic_regression.fit(vectorized_count_train_data, train_target)\n",
    "logistic_regression.score(vectorized_count_test_data,test_target)"
   ]
  },
  {
   "cell_type": "markdown",
   "metadata": {},
   "source": [
    "of all multinomial solver options, SAG (Stochastic Average Gradient) performed best"
   ]
  },
  {
   "cell_type": "code",
   "execution_count": null,
   "metadata": {
    "collapsed": true
   },
   "outputs": [],
   "source": []
  },
  {
   "cell_type": "code",
   "execution_count": 36,
   "metadata": {
    "collapsed": false
   },
   "outputs": [
    {
     "data": {
      "image/png": "[encoded data removed]",
      "text/plain": [
       "<matplotlib.figure.Figure at 0x11bdfada0>"
      ]
     },
     "metadata": {},
     "output_type": "display_data"
    }
   ],
   "source": [
    "C=[0.1,0.2,0.3,0.4,0.5,0.6,0.7,0.8,0.9]\n",
    "accuracy=[]\n",
    "precision=[]\n",
    "recall = []\n",
    "F1 = []\n",
    "n_test = len(test_target)\n",
    "for c in C:\n",
    "    logistic_regression = LogisticRegression(C=c, solver = 'sag',max_iter=500, multi_class='multinomial', n_jobs=-1)\n",
    "    logistic_regression.fit(vectorized_count_train_data, train_target)\n",
    "    test_predict = logistic_regression.predict(vectorized_count_test_data)\n",
    "    accuracy.append(sum(test_target==predict_test)/n_test)\n",
    "    precision.append(precision_score(test_target, predict_test, average=\"macro\") )\n",
    "    recall.append(recall_score(test_target, predict_test, average=\"macro\") )\n",
    "    F1.append(f1_score(test_target, predict_test, average=\"macro\") )\n",
    "\n",
    "plt.plot(C,accuracy);\n",
    "plt.plot(C,precision);\n",
    "plt.plot(C,recall);\n",
    "plt.plot(C,F1);\n",
    "\n",
    "\n"
   ]
  },
  {
   "cell_type": "code",
   "execution_count": 37,
   "metadata": {
    "collapsed": false
   },
   "outputs": [
    {
     "data": {
      "text/plain": [
       "2"
      ]
     },
     "execution_count": 37,
     "metadata": {},
     "output_type": "execute_result"
    }
   ],
   "source": [
    "1+1"
   ]
  },
  {
   "cell_type": "code",
   "execution_count": 33,
   "metadata": {
    "collapsed": false
   },
   "outputs": [
    {
     "name": "stdout",
     "output_type": "stream",
     "text": [
      "Accuracy: 0.742172066377\n",
      "Precision: 0.724481689708\n",
      "Recall: 0.470609534458\n",
      "F1: 0.49499177932\n"
     ]
    }
   ],
   "source": [
    "print(\"Accuracy:\", accuracy[0])\n",
    "print(\"Precision:\", precision[0])\n",
    "print(\"Recall:\", recall[0])\n",
    "print(\"F1:\", F1[0])"
   ]
  },
  {
   "cell_type": "code",
   "execution_count": 38,
   "metadata": {
    "collapsed": false
   },
   "outputs": [
    {
     "name": "stdout",
     "output_type": "stream",
     "text": [
      "Rows: Actual, Columns: Predicted\n",
      "cheap neutral exp\n"
     ]
    },
    {
     "data": {
      "text/plain": [
       "array([[ 5160,  5360,    63],\n",
       "       [ 2107, 25196,   303],\n",
       "       [  162,  1334,   811]])"
      ]
     },
     "execution_count": 38,
     "metadata": {},
     "output_type": "execute_result"
    }
   ],
   "source": [
    "print(\"Rows: Actual, Columns: Predicted\")\n",
    "print('cheap', 'neutral', 'exp')\n",
    "confusion_matrix(test_target, test_predict, labels = ['cheap', 'neutral', 'exp'])"
   ]
  },
  {
   "cell_type": "code",
   "execution_count": 39,
   "metadata": {
    "collapsed": false
   },
   "outputs": [
    {
     "name": "stdout",
     "output_type": "stream",
     "text": [
      "Accuracy: 0.76963156855\n",
      "Precision: 0.759372680848\n",
      "Recall: 0.76963156855\n",
      "F1: 0.753638629695\n"
     ]
    }
   ],
   "source": [
    "print(\"Accuracy:\", sum(test_target==test_predict)/len(test_predict))\n",
    "print(\"Precision:\", precision_score(test_target, test_predict, average=\"weighted\") )\n",
    "print(\"Recall:\", recall_score(test_target, test_predict, average=\"weighted\") )\n",
    "print(\"F1:\", f1_score(test_target, test_predict, average=\"weighted\") )"
   ]
  },
  {
   "cell_type": "markdown",
   "metadata": {},
   "source": [
    "## Results:"
   ]
  },
  {
   "cell_type": "markdown",
   "metadata": {},
   "source": [
    "Comment vectors were fitted into Classification models: Multinomial Naive Bayes and Multinomial Logistic Regression. \n",
    "\n",
    "In all metrics (accuracy, precision, recall and F1, Logistic Regression(using SAG solver)had better results. Weighted metrics were used for calculations since data is unbalanced."
   ]
  },
  {
   "cell_type": "code",
   "execution_count": null,
   "metadata": {
    "collapsed": true
   },
   "outputs": [],
   "source": []
  }
 ],
 "metadata": {
  "kernelspec": {
   "display_name": "Python [Root]",
   "language": "python",
   "name": "Python [Root]"
  },
  "language_info": {
   "codemirror_mode": {
    "name": "ipython",
    "version": 3
   },
   "file_extension": ".py",
   "mimetype": "text/x-python",
   "name": "python",
   "nbconvert_exporter": "python",
   "pygments_lexer": "ipython3",
   "version": "3.5.2"
  }
 },
 "nbformat": 4,
 "nbformat_minor": 0
}
